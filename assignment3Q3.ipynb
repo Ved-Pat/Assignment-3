{
 "cells": [
  {
   "cell_type": "code",
   "execution_count": 1,
   "id": "3ebea094",
   "metadata": {},
   "outputs": [
    {
     "name": "stdout",
     "output_type": "stream",
     "text": [
      "No of upper case characters: 3\n",
      "No of lower case characters: 12\n"
     ]
    }
   ],
   "source": [
    "string = 'The quick Brow Fox'\n",
    "upper_case = 0 \n",
    "lower_case = 0 \n",
    "for i in string: \n",
    "    if i.isupper():\n",
    "        upper_case += 1 \n",
    "    elif i.islower():\n",
    "        lower_case += 1\n",
    "print('No of upper case characters:', upper_case)\n",
    "print('No of lower case characters:', lower_case)\n"
   ]
  },
  {
   "cell_type": "code",
   "execution_count": null,
   "id": "f15679ce",
   "metadata": {},
   "outputs": [],
   "source": []
  }
 ],
 "metadata": {
  "kernelspec": {
   "display_name": "Python 3",
   "language": "python",
   "name": "python3"
  },
  "language_info": {
   "codemirror_mode": {
    "name": "ipython",
    "version": 3
   },
   "file_extension": ".py",
   "mimetype": "text/x-python",
   "name": "python",
   "nbconvert_exporter": "python",
   "pygments_lexer": "ipython3",
   "version": "3.8.8"
  }
 },
 "nbformat": 4,
 "nbformat_minor": 5
}
